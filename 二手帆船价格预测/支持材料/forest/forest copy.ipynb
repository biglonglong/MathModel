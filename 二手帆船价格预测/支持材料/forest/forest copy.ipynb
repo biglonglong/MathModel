{
 "cells": [
  {
   "cell_type": "code",
   "execution_count": 27,
   "metadata": {},
   "outputs": [],
   "source": [
    "import numpy as np\n",
    "import pandas as pd\n",
    "import seaborn as sns\n",
    "import matplotlib.pyplot as plt\n",
    "\n",
    "from sklearn.model_selection import train_test_split\n",
    "from sklearn import metrics\n",
    "\n",
    "from sklearn.model_selection import RandomizedSearchCV \n",
    "from sklearn.model_selection import cross_val_score\n",
    "from sklearn.ensemble import RandomForestRegressor\n",
    "from sklearn.model_selection import GridSearchCV\n",
    "\n",
    "plt.rcParams['font.sans-serif'] = ['SimHei'] \n",
    "plt.rcParams['axes.unicode_minus'] = False  \n",
    "plt.style.use('fivethirtyeight')\n",
    "\n",
    "import warnings\n",
    "warnings.filterwarnings(\"ignore\")"
   ]
  },
  {
   "cell_type": "code",
   "execution_count": 28,
   "metadata": {},
   "outputs": [
    {
     "data": {
      "text/html": [
       "<div>\n",
       "<style scoped>\n",
       "    .dataframe tbody tr th:only-of-type {\n",
       "        vertical-align: middle;\n",
       "    }\n",
       "\n",
       "    .dataframe tbody tr th {\n",
       "        vertical-align: top;\n",
       "    }\n",
       "\n",
       "    .dataframe thead th {\n",
       "        text-align: right;\n",
       "    }\n",
       "</style>\n",
       "<table border=\"1\" class=\"dataframe\">\n",
       "  <thead>\n",
       "    <tr style=\"text-align: right;\">\n",
       "      <th></th>\n",
       "      <th>Variant</th>\n",
       "      <th>Length \\n(ft)</th>\n",
       "      <th>Country/Region/State</th>\n",
       "      <th>Beam (ft)</th>\n",
       "      <th>Draft (ft)</th>\n",
       "      <th>Displacement (lbs)</th>\n",
       "      <th>Sail Area (sq ft)</th>\n",
       "      <th>Average Cargo Throughput (tons)</th>\n",
       "      <th>GDP (USD)</th>\n",
       "      <th>Engine Hours</th>\n",
       "      <th>coastline(km)</th>\n",
       "      <th>Listing Price (USD)</th>\n",
       "    </tr>\n",
       "  </thead>\n",
       "  <tbody>\n",
       "    <tr>\n",
       "      <th>0</th>\n",
       "      <td>4</td>\n",
       "      <td>38.0</td>\n",
       "      <td>8</td>\n",
       "      <td>21.50</td>\n",
       "      <td>3.75</td>\n",
       "      <td>16093</td>\n",
       "      <td>753</td>\n",
       "      <td>240000000</td>\n",
       "      <td>1000.0</td>\n",
       "      <td>15</td>\n",
       "      <td>0.0</td>\n",
       "      <td>219000.0</td>\n",
       "    </tr>\n",
       "    <tr>\n",
       "      <th>1</th>\n",
       "      <td>67</td>\n",
       "      <td>39.0</td>\n",
       "      <td>20</td>\n",
       "      <td>21.08</td>\n",
       "      <td>3.67</td>\n",
       "      <td>19800</td>\n",
       "      <td>958</td>\n",
       "      <td>270000000</td>\n",
       "      <td>1150.0</td>\n",
       "      <td>15</td>\n",
       "      <td>9330.0</td>\n",
       "      <td>210000.0</td>\n",
       "    </tr>\n",
       "    <tr>\n",
       "      <th>2</th>\n",
       "      <td>14</td>\n",
       "      <td>39.0</td>\n",
       "      <td>24</td>\n",
       "      <td>22.08</td>\n",
       "      <td>4.08</td>\n",
       "      <td>22046</td>\n",
       "      <td>1033</td>\n",
       "      <td>76000000</td>\n",
       "      <td>66.8</td>\n",
       "      <td>15</td>\n",
       "      <td>2490.0</td>\n",
       "      <td>200000.0</td>\n",
       "    </tr>\n",
       "    <tr>\n",
       "      <th>3</th>\n",
       "      <td>14</td>\n",
       "      <td>39.5</td>\n",
       "      <td>5</td>\n",
       "      <td>22.08</td>\n",
       "      <td>4.17</td>\n",
       "      <td>19621</td>\n",
       "      <td>1087</td>\n",
       "      <td>595000</td>\n",
       "      <td>57.8</td>\n",
       "      <td>15</td>\n",
       "      <td>5835.0</td>\n",
       "      <td>188252.0</td>\n",
       "    </tr>\n",
       "    <tr>\n",
       "      <th>4</th>\n",
       "      <td>14</td>\n",
       "      <td>39.5</td>\n",
       "      <td>5</td>\n",
       "      <td>22.08</td>\n",
       "      <td>4.17</td>\n",
       "      <td>19621</td>\n",
       "      <td>1087</td>\n",
       "      <td>595000</td>\n",
       "      <td>57.8</td>\n",
       "      <td>15</td>\n",
       "      <td>5835.0</td>\n",
       "      <td>188131.0</td>\n",
       "    </tr>\n",
       "  </tbody>\n",
       "</table>\n",
       "</div>"
      ],
      "text/plain": [
       "   Variant  Length \\n(ft)  Country/Region/State  Beam (ft)  Draft (ft)  \\\n",
       "0        4           38.0                     8      21.50        3.75   \n",
       "1       67           39.0                    20      21.08        3.67   \n",
       "2       14           39.0                    24      22.08        4.08   \n",
       "3       14           39.5                     5      22.08        4.17   \n",
       "4       14           39.5                     5      22.08        4.17   \n",
       "\n",
       "   Displacement (lbs)  Sail Area (sq ft)  Average Cargo Throughput (tons)  \\\n",
       "0               16093                753                        240000000   \n",
       "1               19800                958                        270000000   \n",
       "2               22046               1033                         76000000   \n",
       "3               19621               1087                           595000   \n",
       "4               19621               1087                           595000   \n",
       "\n",
       "   GDP (USD)  Engine Hours  coastline(km)  Listing Price (USD)  \n",
       "0     1000.0            15            0.0             219000.0  \n",
       "1     1150.0            15         9330.0             210000.0  \n",
       "2       66.8            15         2490.0             200000.0  \n",
       "3       57.8            15         5835.0             188252.0  \n",
       "4       57.8            15         5835.0             188131.0  "
      ]
     },
     "execution_count": 28,
     "metadata": {},
     "output_type": "execute_result"
    }
   ],
   "source": [
    "data = pd.read_excel('Catamarans_coastline_avg_Numerical.xlsx',index_col=0)\n",
    "del data['Make']\n",
    "del data['Geographic Region']\n",
    "del data['Year']\n",
    "del data['GDP per capita (USD)']\n",
    "data.head()"
   ]
  },
  {
   "cell_type": "code",
   "execution_count": 29,
   "metadata": {},
   "outputs": [],
   "source": [
    "\n",
    "# 特征数据和标签数据拆分，y为标签数据，除y之外的为特征数据；\n",
    "Y = data['Listing Price (USD)']\n",
    "X =  data.drop(columns=['Listing Price (USD)'])\n"
   ]
  },
  {
   "cell_type": "code",
   "execution_count": 30,
   "metadata": {},
   "outputs": [],
   "source": [
    "x_train,x_test,y_train,y_test=train_test_split(X,Y,test_size=0.2,random_state=7)\n",
    "# 不缩放、鲁棒性"
   ]
  },
  {
   "cell_type": "code",
   "execution_count": 31,
   "metadata": {},
   "outputs": [],
   "source": [
    "# n_estimators = np.arange(95,105, step=2) \n",
    "# max_features = [\"sqrt\", \"log2\"] \n",
    "# # \"auto\",\n",
    "# max_depth = list(np.arange(35, 37, step=1)) + [None] \n",
    "# min_samples_split = np.arange(1,20, step=2) \n",
    "# min_samples_leaf = [1, 2] \n",
    "# bootstrap = [True, False] \n",
    "\n",
    "# param_grid = { \n",
    "#     \"n_estimators\": n_estimators, \n",
    "#     \"max_features\": max_features, \n",
    "#     \"max_depth\": max_depth, \n",
    "#     # \"min_samples_split\": min_samples_split, \n",
    "#     \"min_samples_leaf\": min_samples_leaf, \n",
    "#     # \"bootstrap\": bootstrap, \n",
    "# } "
   ]
  },
  {
   "cell_type": "code",
   "execution_count": 32,
   "metadata": {},
   "outputs": [
    {
     "name": "stdout",
     "output_type": "stream",
     "text": [
      "随机森林模型得分：  0.7838206187305059\n"
     ]
    }
   ],
   "source": [
    "forest_best = RandomForestRegressor(\n",
    "    n_estimators=160,\n",
    "    # criterion='mse',\n",
    "    max_depth=175,\n",
    "    min_samples_split=10\n",
    "    # min_samples_leaf=1,\n",
    "\n",
    "    )\n",
    "forest_best.fit(x_train, y_train)\n",
    "\n",
    "score = forest_best.score(x_test, y_test)\n",
    "print('随机森林模型得分： ', score)\n"
   ]
  },
  {
   "cell_type": "code",
   "execution_count": 33,
   "metadata": {},
   "outputs": [],
   "source": [
    "from SALib.sample import saltelli\n",
    "from SALib.analyze import sobol\n",
    "from SALib.test_functions import Ishigami\n",
    "import numpy as np"
   ]
  },
  {
   "cell_type": "code",
   "execution_count": 45,
   "metadata": {},
   "outputs": [
    {
     "data": {
      "text/html": [
       "<div>\n",
       "<style scoped>\n",
       "    .dataframe tbody tr th:only-of-type {\n",
       "        vertical-align: middle;\n",
       "    }\n",
       "\n",
       "    .dataframe tbody tr th {\n",
       "        vertical-align: top;\n",
       "    }\n",
       "\n",
       "    .dataframe thead th {\n",
       "        text-align: right;\n",
       "    }\n",
       "</style>\n",
       "<table border=\"1\" class=\"dataframe\">\n",
       "  <thead>\n",
       "    <tr style=\"text-align: right;\">\n",
       "      <th></th>\n",
       "      <th>Variant</th>\n",
       "      <th>Length \\n(ft)</th>\n",
       "      <th>Country/Region/State</th>\n",
       "      <th>Beam (ft)</th>\n",
       "      <th>Draft (ft)</th>\n",
       "      <th>Displacement (lbs)</th>\n",
       "      <th>Sail Area (sq ft)</th>\n",
       "      <th>Average Cargo Throughput (tons)</th>\n",
       "      <th>GDP (USD)</th>\n",
       "      <th>Engine Hours</th>\n",
       "      <th>coastline(km)</th>\n",
       "    </tr>\n",
       "  </thead>\n",
       "  <tbody>\n",
       "    <tr>\n",
       "      <th>count</th>\n",
       "      <td>95.000000</td>\n",
       "      <td>95.000000</td>\n",
       "      <td>95.000000</td>\n",
       "      <td>95.000000</td>\n",
       "      <td>95.000000</td>\n",
       "      <td>95.000000</td>\n",
       "      <td>95.000000</td>\n",
       "      <td>9.500000e+01</td>\n",
       "      <td>95.000000</td>\n",
       "      <td>95.000000</td>\n",
       "      <td>95.000000</td>\n",
       "    </tr>\n",
       "    <tr>\n",
       "      <th>mean</th>\n",
       "      <td>34.968421</td>\n",
       "      <td>43.398947</td>\n",
       "      <td>14.168421</td>\n",
       "      <td>24.129895</td>\n",
       "      <td>4.236211</td>\n",
       "      <td>32441.610526</td>\n",
       "      <td>1291.063158</td>\n",
       "      <td>5.030084e+07</td>\n",
       "      <td>966.269474</td>\n",
       "      <td>6.294737</td>\n",
       "      <td>6113.326316</td>\n",
       "    </tr>\n",
       "    <tr>\n",
       "      <th>std</th>\n",
       "      <td>20.642062</td>\n",
       "      <td>4.004319</td>\n",
       "      <td>9.234133</td>\n",
       "      <td>1.378081</td>\n",
       "      <td>0.419377</td>\n",
       "      <td>10242.766631</td>\n",
       "      <td>263.860529</td>\n",
       "      <td>7.923906e+07</td>\n",
       "      <td>988.231087</td>\n",
       "      <td>4.279774</td>\n",
       "      <td>4913.872929</td>\n",
       "    </tr>\n",
       "    <tr>\n",
       "      <th>min</th>\n",
       "      <td>7.000000</td>\n",
       "      <td>38.000000</td>\n",
       "      <td>0.000000</td>\n",
       "      <td>20.580000</td>\n",
       "      <td>2.920000</td>\n",
       "      <td>16500.000000</td>\n",
       "      <td>764.000000</td>\n",
       "      <td>2.350000e+05</td>\n",
       "      <td>16.900000</td>\n",
       "      <td>1.000000</td>\n",
       "      <td>0.000000</td>\n",
       "    </tr>\n",
       "    <tr>\n",
       "      <th>25%</th>\n",
       "      <td>16.000000</td>\n",
       "      <td>39.500000</td>\n",
       "      <td>8.000000</td>\n",
       "      <td>22.895000</td>\n",
       "      <td>4.040000</td>\n",
       "      <td>24250.000000</td>\n",
       "      <td>1076.000000</td>\n",
       "      <td>1.078000e+07</td>\n",
       "      <td>209.000000</td>\n",
       "      <td>3.000000</td>\n",
       "      <td>1793.000000</td>\n",
       "    </tr>\n",
       "    <tr>\n",
       "      <th>50%</th>\n",
       "      <td>32.000000</td>\n",
       "      <td>43.000000</td>\n",
       "      <td>12.000000</td>\n",
       "      <td>24.330000</td>\n",
       "      <td>4.170000</td>\n",
       "      <td>29762.000000</td>\n",
       "      <td>1237.000000</td>\n",
       "      <td>2.029000e+07</td>\n",
       "      <td>851.000000</td>\n",
       "      <td>5.000000</td>\n",
       "      <td>4964.000000</td>\n",
       "    </tr>\n",
       "    <tr>\n",
       "      <th>75%</th>\n",
       "      <td>44.500000</td>\n",
       "      <td>45.800000</td>\n",
       "      <td>17.500000</td>\n",
       "      <td>25.090000</td>\n",
       "      <td>4.300000</td>\n",
       "      <td>37479.000000</td>\n",
       "      <td>1506.000000</td>\n",
       "      <td>5.178000e+07</td>\n",
       "      <td>1394.000000</td>\n",
       "      <td>10.000000</td>\n",
       "      <td>9330.000000</td>\n",
       "    </tr>\n",
       "    <tr>\n",
       "      <th>max</th>\n",
       "      <td>79.000000</td>\n",
       "      <td>56.000000</td>\n",
       "      <td>36.000000</td>\n",
       "      <td>27.080000</td>\n",
       "      <td>5.920000</td>\n",
       "      <td>52359.000000</td>\n",
       "      <td>2102.000000</td>\n",
       "      <td>2.700000e+08</td>\n",
       "      <td>3861.000000</td>\n",
       "      <td>15.000000</td>\n",
       "      <td>13676.000000</td>\n",
       "    </tr>\n",
       "  </tbody>\n",
       "</table>\n",
       "</div>"
      ],
      "text/plain": [
       "         Variant  Length \\n(ft)  Country/Region/State  Beam (ft)  Draft (ft)  \\\n",
       "count  95.000000      95.000000             95.000000  95.000000   95.000000   \n",
       "mean   34.968421      43.398947             14.168421  24.129895    4.236211   \n",
       "std    20.642062       4.004319              9.234133   1.378081    0.419377   \n",
       "min     7.000000      38.000000              0.000000  20.580000    2.920000   \n",
       "25%    16.000000      39.500000              8.000000  22.895000    4.040000   \n",
       "50%    32.000000      43.000000             12.000000  24.330000    4.170000   \n",
       "75%    44.500000      45.800000             17.500000  25.090000    4.300000   \n",
       "max    79.000000      56.000000             36.000000  27.080000    5.920000   \n",
       "\n",
       "       Displacement (lbs)  Sail Area (sq ft)  Average Cargo Throughput (tons)  \\\n",
       "count           95.000000          95.000000                     9.500000e+01   \n",
       "mean         32441.610526        1291.063158                     5.030084e+07   \n",
       "std          10242.766631         263.860529                     7.923906e+07   \n",
       "min          16500.000000         764.000000                     2.350000e+05   \n",
       "25%          24250.000000        1076.000000                     1.078000e+07   \n",
       "50%          29762.000000        1237.000000                     2.029000e+07   \n",
       "75%          37479.000000        1506.000000                     5.178000e+07   \n",
       "max          52359.000000        2102.000000                     2.700000e+08   \n",
       "\n",
       "         GDP (USD)  Engine Hours  coastline(km)  \n",
       "count    95.000000     95.000000      95.000000  \n",
       "mean    966.269474      6.294737    6113.326316  \n",
       "std     988.231087      4.279774    4913.872929  \n",
       "min      16.900000      1.000000       0.000000  \n",
       "25%     209.000000      3.000000    1793.000000  \n",
       "50%     851.000000      5.000000    4964.000000  \n",
       "75%    1394.000000     10.000000    9330.000000  \n",
       "max    3861.000000     15.000000   13676.000000  "
      ]
     },
     "execution_count": 45,
     "metadata": {},
     "output_type": "execute_result"
    }
   ],
   "source": [
    "x_test.describe()"
   ]
  },
  {
   "cell_type": "code",
   "execution_count": 58,
   "metadata": {},
   "outputs": [],
   "source": [
    "\n",
    "\n",
    "feature_list =['n_estimateors','max_depth','min_samples_split']\n",
    "problem = {\n",
    "    'num_vars':3,\n",
    "    'names':feature_list,\n",
    "    'bounds':[[166,183],\n",
    "             [171,181],\n",
    "             [10,50]\n",
    "             ]\n",
    "}\n"
   ]
  },
  {
   "cell_type": "code",
   "execution_count": 59,
   "metadata": {},
   "outputs": [],
   "source": [
    "param_values = saltelli.sample(problem, 1000)"
   ]
  },
  {
   "cell_type": "code",
   "execution_count": 61,
   "metadata": {},
   "outputs": [],
   "source": [
    "Y = RandomForestRegressor(param_values)"
   ]
  },
  {
   "cell_type": "code",
   "execution_count": 62,
   "metadata": {},
   "outputs": [
    {
     "ename": "AttributeError",
     "evalue": "'RandomForestRegressor' object has no attribute 'shape'",
     "output_type": "error",
     "traceback": [
      "\u001b[1;31m---------------------------------------------------------------------------\u001b[0m",
      "\u001b[1;31mAttributeError\u001b[0m                            Traceback (most recent call last)",
      "\u001b[1;32mc:\\Users\\15222\\Desktop\\demo\\forest\\forest copy.ipynb Cell 12\u001b[0m in \u001b[0;36m1\n\u001b[1;32m----> <a href='vscode-notebook-cell:/c%3A/Users/15222/Desktop/demo/forest/forest%20copy.ipynb#X36sZmlsZQ%3D%3D?line=0'>1</a>\u001b[0m \u001b[39mprint\u001b[39m(param_values\u001b[39m.\u001b[39mshape, Y\u001b[39m.\u001b[39;49mshape)\n",
      "\u001b[1;31mAttributeError\u001b[0m: 'RandomForestRegressor' object has no attribute 'shape'"
     ]
    }
   ],
   "source": [
    "print(param_values.shape, Y.shape)"
   ]
  },
  {
   "cell_type": "code",
   "execution_count": 63,
   "metadata": {},
   "outputs": [
    {
     "ename": "AttributeError",
     "evalue": "'RandomForestRegressor' object has no attribute 'size'",
     "output_type": "error",
     "traceback": [
      "\u001b[1;31m---------------------------------------------------------------------------\u001b[0m",
      "\u001b[1;31mAttributeError\u001b[0m                            Traceback (most recent call last)",
      "\u001b[1;32mc:\\Users\\15222\\Desktop\\demo\\forest\\forest copy.ipynb Cell 13\u001b[0m in \u001b[0;36m1\n\u001b[1;32m----> <a href='vscode-notebook-cell:/c%3A/Users/15222/Desktop/demo/forest/forest%20copy.ipynb#X32sZmlsZQ%3D%3D?line=0'>1</a>\u001b[0m Si \u001b[39m=\u001b[39m sobol\u001b[39m.\u001b[39;49manalyze(problem, Y, print_to_console\u001b[39m=\u001b[39;49m\u001b[39mTrue\u001b[39;49;00m)\n",
      "File \u001b[1;32md:\\Anaconda\\lib\\site-packages\\SALib\\analyze\\sobol.py:114\u001b[0m, in \u001b[0;36manalyze\u001b[1;34m(problem, Y, calc_second_order, num_resamples, conf_level, print_to_console, parallel, n_processors, keep_resamples, seed)\u001b[0m\n\u001b[0;32m    111\u001b[0m \u001b[39melse\u001b[39;00m:\n\u001b[0;32m    112\u001b[0m     _, D \u001b[39m=\u001b[39m extract_group_names(groups)\n\u001b[1;32m--> 114\u001b[0m \u001b[39mif\u001b[39;00m calc_second_order \u001b[39mand\u001b[39;00m Y\u001b[39m.\u001b[39;49msize \u001b[39m%\u001b[39m (\u001b[39m2\u001b[39m \u001b[39m*\u001b[39m D \u001b[39m+\u001b[39m \u001b[39m2\u001b[39m) \u001b[39m==\u001b[39m \u001b[39m0\u001b[39m:\n\u001b[0;32m    115\u001b[0m     N \u001b[39m=\u001b[39m \u001b[39mint\u001b[39m(Y\u001b[39m.\u001b[39msize \u001b[39m/\u001b[39m (\u001b[39m2\u001b[39m \u001b[39m*\u001b[39m D \u001b[39m+\u001b[39m \u001b[39m2\u001b[39m))\n\u001b[0;32m    116\u001b[0m \u001b[39melif\u001b[39;00m \u001b[39mnot\u001b[39;00m calc_second_order \u001b[39mand\u001b[39;00m Y\u001b[39m.\u001b[39msize \u001b[39m%\u001b[39m (D \u001b[39m+\u001b[39m \u001b[39m2\u001b[39m) \u001b[39m==\u001b[39m \u001b[39m0\u001b[39m:\n",
      "\u001b[1;31mAttributeError\u001b[0m: 'RandomForestRegressor' object has no attribute 'size'"
     ]
    }
   ],
   "source": [
    "Si = sobol.analyze(problem, Y, print_to_console=True)"
   ]
  },
  {
   "cell_type": "code",
   "execution_count": 57,
   "metadata": {},
   "outputs": [
    {
     "data": {
      "image/png": "[encoded data removed]",
      "text/plain": [
       "<Figure size 640x480 with 1 Axes>"
      ]
     },
     "metadata": {},
     "output_type": "display_data"
    }
   ],
   "source": [
    "from SALib.plotting.bar import plot as barplot\n",
    "import matplotlib.pyplot as plot\n",
    "\n",
    "Si_df = Si.to_df()\n",
    "barplot(Si_df[0])\n",
    "plot.show()"
   ]
  },
  {
   "cell_type": "code",
   "execution_count": null,
   "metadata": {},
   "outputs": [
    {
     "ename": "RuntimeError",
     "evalue": "\n        Incorrect number of samples in model output file.\n        Confirm that calc_second_order matches option used during sampling.",
     "output_type": "error",
     "traceback": [
      "\u001b[1;31m---------------------------------------------------------------------------\u001b[0m",
      "\u001b[1;31mRuntimeError\u001b[0m                              Traceback (most recent call last)",
      "\u001b[1;32mc:\\Users\\15222\\Desktop\\demo\\forest\\forest copy.ipynb Cell 10\u001b[0m in \u001b[0;36m1\n\u001b[1;32m----> <a href='vscode-notebook-cell:/c%3A/Users/15222/Desktop/demo/forest/forest%20copy.ipynb#X25sZmlsZQ%3D%3D?line=0'>1</a>\u001b[0m Si \u001b[39m=\u001b[39m sobol\u001b[39m.\u001b[39;49manalyze(problem,y_test,print_to_console\u001b[39m=\u001b[39;49m\u001b[39mTrue\u001b[39;49;00m)\n",
      "File \u001b[1;32md:\\Anaconda\\lib\\site-packages\\SALib\\analyze\\sobol.py:119\u001b[0m, in \u001b[0;36manalyze\u001b[1;34m(problem, Y, calc_second_order, num_resamples, conf_level, print_to_console, parallel, n_processors, keep_resamples, seed)\u001b[0m\n\u001b[0;32m    117\u001b[0m     N \u001b[39m=\u001b[39m \u001b[39mint\u001b[39m(Y\u001b[39m.\u001b[39msize \u001b[39m/\u001b[39m (D \u001b[39m+\u001b[39m \u001b[39m2\u001b[39m))\n\u001b[0;32m    118\u001b[0m \u001b[39melse\u001b[39;00m:\n\u001b[1;32m--> 119\u001b[0m     \u001b[39mraise\u001b[39;00m \u001b[39mRuntimeError\u001b[39;00m(\n\u001b[0;32m    120\u001b[0m         \u001b[39m\"\"\"\u001b[39;00m\n\u001b[0;32m    121\u001b[0m \u001b[39m    Incorrect number of samples in model output file.\u001b[39;00m\n\u001b[0;32m    122\u001b[0m \u001b[39m    Confirm that calc_second_order matches option used during sampling.\"\"\"\u001b[39;00m\n\u001b[0;32m    123\u001b[0m     )\n\u001b[0;32m    125\u001b[0m \u001b[39mif\u001b[39;00m \u001b[39mnot\u001b[39;00m \u001b[39m0\u001b[39m \u001b[39m<\u001b[39m conf_level \u001b[39m<\u001b[39m \u001b[39m1\u001b[39m:\n\u001b[0;32m    126\u001b[0m     \u001b[39mraise\u001b[39;00m \u001b[39mRuntimeError\u001b[39;00m(\u001b[39m\"\u001b[39m\u001b[39mConfidence level must be between 0-1.\u001b[39m\u001b[39m\"\u001b[39m)\n",
      "\u001b[1;31mRuntimeError\u001b[0m: \n        Incorrect number of samples in model output file.\n        Confirm that calc_second_order matches option used during sampling."
     ]
    }
   ],
   "source": [
    "Si = sobol.analyze(problem,y_test,print_to_console=True)\n"
   ]
  },
  {
   "cell_type": "code",
   "execution_count": null,
   "metadata": {},
   "outputs": [],
   "source": [
    "# pre = forest_best.predict(x_test)\n",
    "# x = list(range(1,49))\n",
    "\n",
    "# y_test=y_test[0:48]\n",
    "# pre=pre[0:48]\n",
    "\n",
    "# plt.figure(figsize=(25, 8), dpi=80)\n",
    " \n",
    "# # 绘制图像 label 设置标签 color设置颜色 linestyle 设置线条 linewidth 设置线条粗细 alpha设置透明度\n",
    "# plt.plot(x, y_test,label=u'origin', color='red', linestyle='-', marker='.', markersize=5)\n",
    "# plt.plot(x, pre,label=u'predict', color='blue',linestyle='-', marker='.', markersize=5)\n",
    "\n",
    "\n",
    "# # 设置X刻度\n",
    "# _xtick_labels = list(range(1,49))\n",
    "# plt.xticks(x, _xtick_labels, rotation=45)\n",
    "\n",
    "# plt.xlabel('number')\n",
    "# plt.ylabel('Listing Price(USD)')\n",
    "# plt.title('predict-origin')\n",
    " \n",
    "# plt.legend(['origin_ListingPrice','pre_ListingPrice'])\n",
    "# plt.show()\n"
   ]
  },
  {
   "cell_type": "code",
   "execution_count": null,
   "metadata": {},
   "outputs": [],
   "source": [
    "param_grid = {\n",
    "    # 'n_estimators':range(1,170,10),\n",
    "    # 'criterion':['mse'],\n",
    "    # 'max_depth':range(170,180,4),\n",
    "    # 'min_samples_split':range(10,12,1),\n",
    "    # 'min_samples_leaf':[1]\n",
    "}\n",
    "#     n_estimators=160,\n",
    "#     # criterion='mse',\n",
    "#     max_depth=175,\n",
    "#     min_samples_split=10\n",
    "#     # min_samples_leaf=1,"
   ]
  },
  {
   "cell_type": "code",
   "execution_count": null,
   "metadata": {},
   "outputs": [
    {
     "name": "stdout",
     "output_type": "stream",
     "text": [
      "[nan]\n",
      "{'mean_fit_time': array([0.13333249]), 'std_fit_time': array([0.00660111]), 'mean_score_time': array([0.00099929]), 'std_score_time': array([4.80925728e-06]), 'params': [{}], 'split0_test_score': array([nan]), 'split1_test_score': array([nan]), 'split2_test_score': array([nan]), 'mean_test_score': array([nan]), 'std_test_score': array([nan]), 'rank_test_score': array([1])}\n",
      "RFC最优模型参数： {}\n"
     ]
    }
   ],
   "source": [
    "# forest = RandomForestRegressor(random_state=7,n_jobs=-1)\n",
    "# RFC_cv = GridSearchCV(forest, param_grid, cv=3, scoring=\"neg_log_loss\")\n",
    "# # , n_iter=100, n_jobs=-1\n",
    "# RFC_cv.fit(x_train,y_train)\n",
    "# print(RFC_cv.cv_results_[ 'mean_test_score'])\n",
    "# print(RFC_cv.cv_results_)\n",
    "# print('RFC最优模型参数：',RFC_cv.best_params_)\n",
    "# # random_cv.best_params_\n",
    "# # grid_cv_best = random_cv.best_estimator_\n",
    "\n",
    "# forest_best=RFC_cv.best_estimator_\n"
   ]
  },
  {
   "cell_type": "code",
   "execution_count": null,
   "metadata": {},
   "outputs": [
    {
     "data": {
      "text/plain": [
       "Text(0.5, 1.0, 'Feature variable weights')"
      ]
     },
     "execution_count": 10,
     "metadata": {},
     "output_type": "execute_result"
    },
    {
     "data": {
      "image/png": "[encoded data removed]",
      "text/plain": [
       "<Figure size 1500x500 with 1 Axes>"
      ]
     },
     "metadata": {},
     "output_type": "display_data"
    }
   ],
   "source": [
    "# importances = list(forest_best.feature_importances_)\n",
    "# feature_list =['Variant','Length','Region','Beam','Draft','Displace','SailArea','AvgThroughput','GDP','EngineHours','coastline']\n",
    "# feature_importances = [(feature, round(importance, 2)) for feature, importance in zip(feature_list, importances)]\n",
    "# feature_importances = sorted(feature_importances, key=lambda x: x[1], reverse=True)\n",
    "\n",
    "# import matplotlib.pyplot as plt\n",
    " \n",
    "# x_values = list(range(len(importances)))\n",
    "# plt.figure(figsize=(15, 5))\n",
    "# plt.bar(x_values, importances, orientation='vertical')\n",
    "# plt.xticks(x_values, feature_list, rotation=6)\n",
    "# plt.ylabel('Weights')\n",
    "# plt.xlabel('Feature variable')\n",
    "# plt.title('Feature variable weights')\n"
   ]
  },
  {
   "cell_type": "code",
   "execution_count": null,
   "metadata": {},
   "outputs": [
    {
     "name": "stdout",
     "output_type": "stream",
     "text": [
      "Mean Absolute Error: 64598.00786090284\n",
      "0.7696976655100991\n"
     ]
    }
   ],
   "source": [
    "# y_pred =forest_best.predict(x_test)\n",
    "# print('Mean Absolute Error:', metrics.mean_absolute_error(y_pred, y_test))\n",
    "\n",
    "# # photo y_pred & y_test\n",
    "# print(forest_best.score(x_test,y_test))\n",
    "# #score"
   ]
  },
  {
   "cell_type": "code",
   "execution_count": null,
   "metadata": {},
   "outputs": [],
   "source": [
    "# from sklearn.tree import export_graphviz\n",
    "# import os\n",
    "\n",
    "# for index, Tree_estimator in enumerate(forest_best):\n",
    "#     if index>=1 : break\n",
    "#     export_graphviz(Tree_estimator,\n",
    "#                     out_file='tree{}.dot'.format(index),\n",
    "#                     feature_names=feature_list,\n",
    "#                     rounded=True,\n",
    "#                     proportion=False,\n",
    "#                     precision=2,\n",
    "#                     filled=True)\n",
    "#     os.system('dot -Tpng tree{}.dot -o tree{}.png'.format(index, index))\n",
    "\n"
   ]
  },
  {
   "cell_type": "code",
   "execution_count": null,
   "metadata": {},
   "outputs": [],
   "source": [
    "# from six import StringIO\n",
    "# from IPython.display import Image\n",
    "# from sklearn.tree import export_graphviz\n",
    "# #这个到时候使用graphviz库\n",
    "# import pydotplus\n",
    "# import os\n",
    "# # os.environ['PATH'] = os.environ['PATH']+';'+r\"D:\\CLibrary\\Graphviz2.44.1\\bin\\graphviz\"\n",
    "# dot_data = StringIO()\n",
    "# export_graphviz(pipe.named_steps['regressor'].estimators_[0],\n",
    "#                 out_file=dot_data)\n",
    "# graph = pydotplus.graph_from_dot_data(dot_data.getvalue())\n",
    "# graph.write_png('tree.png')\n",
    "# Image(graph.create_png())\n"
   ]
  },
  {
   "cell_type": "code",
   "execution_count": null,
   "metadata": {},
   "outputs": [],
   "source": [
    "#graphviz"
   ]
  },
  {
   "cell_type": "code",
   "execution_count": null,
   "metadata": {},
   "outputs": [
    {
     "data": {
      "text/plain": [
       "[685000, 560000, 538500]"
      ]
     },
     "execution_count": 28,
     "metadata": {},
     "output_type": "execute_result"
    }
   ],
   "source": [
    "# data = pd.read_excel('香港(3).xlsx',index_col=0,sheet_name=1)\n",
    "\n",
    "# del data['Make']\n",
    "# del data['Geographic Region']\n",
    "# del data['Year']\n",
    "# del data['GDP per capita (USD)']\n",
    "# # 特征数据和标签数据拆分，y为标签数据，除y之外的为特征数据；\n",
    "# Y = data['Listing Price (USD)']\n",
    "# X =  data.drop(columns=['Listing Price (USD)'])\n",
    "# list(Y)"
   ]
  },
  {
   "cell_type": "code",
   "execution_count": null,
   "metadata": {},
   "outputs": [
    {
     "data": {
      "text/plain": [
       "array([533646.92529906, 539753.27718779, 534784.87629455])"
      ]
     },
     "execution_count": 29,
     "metadata": {},
     "output_type": "execute_result"
    }
   ],
   "source": [
    "# score = forest_best.predict(X)\n",
    "# score"
   ]
  }
 ],
 "metadata": {
  "kernelspec": {
   "display_name": "Python 3",
   "language": "python",
   "name": "python3"
  },
  "language_info": {
   "codemirror_mode": {
    "name": "ipython",
    "version": 3
   },
   "file_extension": ".py",
   "mimetype": "text/x-python",
   "name": "python",
   "nbconvert_exporter": "python",
   "pygments_lexer": "ipython3",
   "version": "3.9.12"
  },
  "orig_nbformat": 4
 },
 "nbformat": 4,
 "nbformat_minor": 2
}
