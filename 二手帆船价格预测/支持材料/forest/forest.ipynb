{
 "cells": [
  {
   "cell_type": "code",
   "execution_count": 2,
   "metadata": {},
   "outputs": [],
   "source": [
    "import numpy as np\n",
    "import pandas as pd\n",
    "import seaborn as sns\n",
    "import matplotlib.pyplot as plt\n",
    "\n",
    "from sklearn.model_selection import train_test_split\n",
    "from sklearn import metrics\n",
    "\n",
    "from sklearn.model_selection import RandomizedSearchCV \n",
    "from sklearn.model_selection import cross_val_score\n",
    "from sklearn.ensemble import RandomForestRegressor\n",
    "from sklearn.model_selection import GridSearchCV\n",
    "\n",
    "plt.rcParams['font.sans-serif'] = ['SimHei'] \n",
    "plt.rcParams['axes.unicode_minus'] = False  \n",
    "plt.style.use('fivethirtyeight')\n",
    "\n",
    "import warnings\n",
    "warnings.filterwarnings(\"ignore\")"
   ]
  },
  {
   "cell_type": "code",
   "execution_count": 3,
   "metadata": {},
   "outputs": [
    {
     "data": {
      "text/html": [
       "<div>\n",
       "<style scoped>\n",
       "    .dataframe tbody tr th:only-of-type {\n",
       "        vertical-align: middle;\n",
       "    }\n",
       "\n",
       "    .dataframe tbody tr th {\n",
       "        vertical-align: top;\n",
       "    }\n",
       "\n",
       "    .dataframe thead th {\n",
       "        text-align: right;\n",
       "    }\n",
       "</style>\n",
       "<table border=\"1\" class=\"dataframe\">\n",
       "  <thead>\n",
       "    <tr style=\"text-align: right;\">\n",
       "      <th></th>\n",
       "      <th>Make</th>\n",
       "      <th>Variant</th>\n",
       "      <th>Length \\n(ft)</th>\n",
       "      <th>Geographic Region</th>\n",
       "      <th>Country/Region/State</th>\n",
       "      <th>Year</th>\n",
       "      <th>Beam (ft)</th>\n",
       "      <th>Draft (ft)</th>\n",
       "      <th>Displacement (lbs)</th>\n",
       "      <th>Sail Area (sq ft)</th>\n",
       "      <th>Average cargo throughput (tons)</th>\n",
       "      <th>GDP (USD billon)</th>\n",
       "      <th>GDP per capita (USD)</th>\n",
       "      <th>Engine Hours</th>\n",
       "      <th>coastline(km)</th>\n",
       "      <th>Listing Price (USD)</th>\n",
       "    </tr>\n",
       "  </thead>\n",
       "  <tbody>\n",
       "    <tr>\n",
       "      <th>0</th>\n",
       "      <td>2</td>\n",
       "      <td>290</td>\n",
       "      <td>41</td>\n",
       "      <td>1</td>\n",
       "      <td>14</td>\n",
       "      <td>2005</td>\n",
       "      <td>12.63</td>\n",
       "      <td>3.94</td>\n",
       "      <td>22046</td>\n",
       "      <td>824</td>\n",
       "      <td>45350000</td>\n",
       "      <td>2939.0</td>\n",
       "      <td>44494</td>\n",
       "      <td>15</td>\n",
       "      <td>4853.0</td>\n",
       "      <td>267233.000000</td>\n",
       "    </tr>\n",
       "    <tr>\n",
       "      <th>1</th>\n",
       "      <td>7</td>\n",
       "      <td>15</td>\n",
       "      <td>38</td>\n",
       "      <td>1</td>\n",
       "      <td>8</td>\n",
       "      <td>2005</td>\n",
       "      <td>12.99</td>\n",
       "      <td>6.07</td>\n",
       "      <td>15432</td>\n",
       "      <td>721</td>\n",
       "      <td>595000</td>\n",
       "      <td>57.8</td>\n",
       "      <td>13647</td>\n",
       "      <td>15</td>\n",
       "      <td>5835.0</td>\n",
       "      <td>65554.666667</td>\n",
       "    </tr>\n",
       "    <tr>\n",
       "      <th>2</th>\n",
       "      <td>7</td>\n",
       "      <td>16</td>\n",
       "      <td>38</td>\n",
       "      <td>1</td>\n",
       "      <td>8</td>\n",
       "      <td>2005</td>\n",
       "      <td>12.99</td>\n",
       "      <td>6.07</td>\n",
       "      <td>15432</td>\n",
       "      <td>721</td>\n",
       "      <td>595000</td>\n",
       "      <td>57.8</td>\n",
       "      <td>13647</td>\n",
       "      <td>15</td>\n",
       "      <td>5835.0</td>\n",
       "      <td>53447.000000</td>\n",
       "    </tr>\n",
       "    <tr>\n",
       "      <th>3</th>\n",
       "      <td>7</td>\n",
       "      <td>15</td>\n",
       "      <td>38</td>\n",
       "      <td>1</td>\n",
       "      <td>17</td>\n",
       "      <td>2005</td>\n",
       "      <td>12.99</td>\n",
       "      <td>6.07</td>\n",
       "      <td>15432</td>\n",
       "      <td>721</td>\n",
       "      <td>3150000</td>\n",
       "      <td>204.0</td>\n",
       "      <td>19147</td>\n",
       "      <td>15</td>\n",
       "      <td>13676.0</td>\n",
       "      <td>91101.000000</td>\n",
       "    </tr>\n",
       "    <tr>\n",
       "      <th>4</th>\n",
       "      <td>7</td>\n",
       "      <td>26</td>\n",
       "      <td>39</td>\n",
       "      <td>1</td>\n",
       "      <td>17</td>\n",
       "      <td>2005</td>\n",
       "      <td>13.02</td>\n",
       "      <td>6.23</td>\n",
       "      <td>19621</td>\n",
       "      <td>776</td>\n",
       "      <td>3150000</td>\n",
       "      <td>204.0</td>\n",
       "      <td>19147</td>\n",
       "      <td>15</td>\n",
       "      <td>13676.0</td>\n",
       "      <td>66748.000000</td>\n",
       "    </tr>\n",
       "  </tbody>\n",
       "</table>\n",
       "</div>"
      ],
      "text/plain": [
       "   Make  Variant  Length \\n(ft)  Geographic Region  Country/Region/State  \\\n",
       "0     2      290             41                  1                    14   \n",
       "1     7       15             38                  1                     8   \n",
       "2     7       16             38                  1                     8   \n",
       "3     7       15             38                  1                    17   \n",
       "4     7       26             39                  1                    17   \n",
       "\n",
       "   Year  Beam (ft)  Draft (ft)  Displacement (lbs)  Sail Area (sq ft)  \\\n",
       "0  2005      12.63        3.94               22046                824   \n",
       "1  2005      12.99        6.07               15432                721   \n",
       "2  2005      12.99        6.07               15432                721   \n",
       "3  2005      12.99        6.07               15432                721   \n",
       "4  2005      13.02        6.23               19621                776   \n",
       "\n",
       "   Average cargo throughput (tons)  GDP (USD billon)  GDP per capita (USD)  \\\n",
       "0                         45350000            2939.0                 44494   \n",
       "1                           595000              57.8                 13647   \n",
       "2                           595000              57.8                 13647   \n",
       "3                          3150000             204.0                 19147   \n",
       "4                          3150000             204.0                 19147   \n",
       "\n",
       "   Engine Hours  coastline(km)  Listing Price (USD)  \n",
       "0            15         4853.0        267233.000000  \n",
       "1            15         5835.0         65554.666667  \n",
       "2            15         5835.0         53447.000000  \n",
       "3            15        13676.0         91101.000000  \n",
       "4            15        13676.0         66748.000000  "
      ]
     },
     "execution_count": 3,
     "metadata": {},
     "output_type": "execute_result"
    }
   ],
   "source": [
    "data = pd.read_excel('Monohulled_coastline_avg_Numerical.xlsx',index_col=0)\n",
    "data.head()"
   ]
  },
  {
   "cell_type": "code",
   "execution_count": 3,
   "metadata": {},
   "outputs": [],
   "source": [
    "\n",
    "# 特征数据和标签数据拆分，y为标签数据，除y之外的为特征数据；\n",
    "Y = data['Listing Price (USD)']\n",
    "X =  data.drop(columns=['Listing Price (USD)'])\n"
   ]
  },
  {
   "cell_type": "code",
   "execution_count": 4,
   "metadata": {},
   "outputs": [],
   "source": [
    "x_train,x_test,y_train,y_test=train_test_split(X,Y,test_size=0.2,random_state=7)\n",
    "# 不缩放、鲁棒性"
   ]
  },
  {
   "cell_type": "code",
   "execution_count": 5,
   "metadata": {},
   "outputs": [],
   "source": [
    "n_estimators = np.arange(95,105, step=2) \n",
    "max_features = [\"sqrt\", \"log2\"] \n",
    "# \"auto\",\n",
    "max_depth = list(np.arange(35, 37, step=1)) + [None] \n",
    "min_samples_split = np.arange(1,20, step=2) \n",
    "min_samples_leaf = [1, 2] \n",
    "bootstrap = [True, False] \n",
    "\n",
    "param_grid = { \n",
    "    \"n_estimators\": n_estimators, \n",
    "    \"max_features\": max_features, \n",
    "    \"max_depth\": max_depth, \n",
    "    # \"min_samples_split\": min_samples_split, \n",
    "    \"min_samples_leaf\": min_samples_leaf, \n",
    "    # \"bootstrap\": bootstrap, \n",
    "} "
   ]
  },
  {
   "cell_type": "code",
   "execution_count": 6,
   "metadata": {},
   "outputs": [
    {
     "name": "stdout",
     "output_type": "stream",
     "text": [
      "随机森林模型得分：  0.8192827232536908\n"
     ]
    }
   ],
   "source": [
    "forest = RandomForestRegressor(\n",
    "    n_estimators=100,\n",
    "    # criterion='mse',\n",
    "    max_depth=36,\n",
    "    # min_samples_split=8,\n",
    "    # min_samples_leaf=1,\n",
    "\n",
    "    )\n",
    "forest.fit(x_train, y_train)\n",
    "\n",
    "score = forest.score(x_test, y_test)\n",
    "print('随机森林模型得分： ', score)\n"
   ]
  },
  {
   "cell_type": "code",
   "execution_count": 7,
   "metadata": {},
   "outputs": [],
   "source": [
    "# param_grid = {\n",
    "#     'n_estimators':range(180,200,4),\n",
    "# }"
   ]
  },
  {
   "cell_type": "code",
   "execution_count": 9,
   "metadata": {},
   "outputs": [
    {
     "name": "stdout",
     "output_type": "stream",
     "text": [
      "[nan nan nan nan nan nan nan nan nan nan nan nan nan nan nan nan nan nan\n",
      " nan nan nan nan nan nan nan nan nan nan nan nan nan nan nan nan nan nan\n",
      " nan nan nan nan nan nan nan nan nan nan nan nan nan nan nan nan nan nan\n",
      " nan nan nan nan nan nan]\n",
      "[nan nan nan nan nan nan nan nan nan nan nan nan nan nan nan nan nan nan\n",
      " nan nan nan nan nan nan nan nan nan nan nan nan nan nan nan nan nan nan\n",
      " nan nan nan nan nan nan nan nan nan nan nan nan nan nan nan nan nan nan\n",
      " nan nan nan nan nan nan]\n",
      "RFC最优模型参数： {'max_depth': 35, 'max_features': 'sqrt', 'min_samples_leaf': 1, 'n_estimators': 95}\n"
     ]
    }
   ],
   "source": [
    "# forest = RandomForestRegressor(random_state=7,n_jobs=-1)\n",
    "# RFC_cv = GridSearchCV(forest, param_grid, cv=3, scoring=\"neg_log_loss\")\n",
    "# # , n_iter=100, n_jobs=-1\n",
    "# RFC_cv.fit(x_train,y_train)\n",
    "# print(RFC_cv.cv_results_[ 'mean_test_score'])\n",
    "# print(RFC_cv.cv_results_[ 'std_test_score'])\n",
    "# print('RFC最优模型参数：',RFC_cv.best_params_)\n",
    "# # random_cv.best_params_\n",
    "# # grid_cv_best = random_cv.best_estimator_\n",
    "\n",
    "# forest_best=RFC_cv.best_estimator_\n"
   ]
  },
  {
   "cell_type": "code",
   "execution_count": 10,
   "metadata": {},
   "outputs": [
    {
     "data": {
      "text/plain": [
       "Text(0.5, 1.0, 'Variable Importances')"
      ]
     },
     "execution_count": 10,
     "metadata": {},
     "output_type": "execute_result"
    },
    {
     "data": {
      "image/png": "[encoded data removed]",
      "text/plain": [
       "<Figure size 800x500 with 1 Axes>"
      ]
     },
     "metadata": {},
     "output_type": "display_data"
    }
   ],
   "source": [
    "importances = list(forest_best.feature_importances_)\n",
    "feature_list = ['Make','Var','L','GR','CRS','Y','Bt','Dt','Dpe','Area','TON','GDPT','GDPP','EH','Cat']\n",
    "feature_importances = [(feature, round(importance, 2)) for feature, importance in zip(feature_list, importances)]\n",
    "feature_importances = sorted(feature_importances, key=lambda x: x[1], reverse=True)\n",
    "\n",
    "import matplotlib.pyplot as plt\n",
    " \n",
    "x_values = list(range(len(importances)))\n",
    "plt.figure(figsize=(8, 5))\n",
    "plt.bar(x_values, importances, orientation='vertical')\n",
    "plt.xticks(x_values, feature_list, rotation=6)\n",
    "plt.ylabel('Importance')\n",
    "plt.xlabel('Variable')\n",
    "plt.title('Variable Importances')\n"
   ]
  },
  {
   "cell_type": "code",
   "execution_count": 11,
   "metadata": {},
   "outputs": [
    {
     "name": "stdout",
     "output_type": "stream",
     "text": [
      "Mean Absolute Error: 40650.364928557814\n",
      "0.7872069504994259\n"
     ]
    }
   ],
   "source": [
    "y_pred =forest_best.predict(x_test)\n",
    "print('Mean Absolute Error:', metrics.mean_absolute_error(y_pred, y_test))\n",
    "\n",
    "# photo y_pred & y_test\n",
    "print(forest_best.score(x_test,y_test))\n",
    "#score"
   ]
  },
  {
   "cell_type": "code",
   "execution_count": 12,
   "metadata": {},
   "outputs": [],
   "source": [
    "from sklearn.tree import export_graphviz\n",
    "import os\n",
    "\n",
    "for index, Tree_estimator in enumerate(forest_best):\n",
    "    export_graphviz(Tree_estimator,\n",
    "                    out_file='tree{}.dot'.format(index),\n",
    "                    feature_names=feature_list,\n",
    "                    rounded=True,\n",
    "                    proportion=False,\n",
    "                    precision=2,\n",
    "                    filled=True)\n",
    "    os.system('dot -Tpng tree{}.dot -o tree{}.png'.format(index, index))\n",
    "\n"
   ]
  },
  {
   "cell_type": "code",
   "execution_count": null,
   "metadata": {},
   "outputs": [],
   "source": [
    "# from six import StringIO\n",
    "# from IPython.display import Image\n",
    "# from sklearn.tree import export_graphviz\n",
    "# #这个到时候使用graphviz库\n",
    "# import pydotplus\n",
    "# import os\n",
    "# # os.environ['PATH'] = os.environ['PATH']+';'+r\"D:\\CLibrary\\Graphviz2.44.1\\bin\\graphviz\"\n",
    "# dot_data = StringIO()\n",
    "# export_graphviz(pipe.named_steps['regressor'].estimators_[0],\n",
    "#                 out_file=dot_data)\n",
    "# graph = pydotplus.graph_from_dot_data(dot_data.getvalue())\n",
    "# graph.write_png('tree.png')\n",
    "# Image(graph.create_png())\n"
   ]
  },
  {
   "cell_type": "code",
   "execution_count": null,
   "metadata": {},
   "outputs": [],
   "source": [
    "#graphviz"
   ]
  },
  {
   "cell_type": "code",
   "execution_count": null,
   "metadata": {},
   "outputs": [],
   "source": [
    "# data = pd.read_excel('香港(3).xlsx',index_col=0)\n",
    "# # 特征数据和标签数据拆分，y为标签数据，除y之外的为特征数据；\n",
    "# Y = data['Listing Price (USD)']\n",
    "# X =  data.drop(columns=['Listing Price (USD)'])\n",
    "# list(Y)"
   ]
  },
  {
   "cell_type": "code",
   "execution_count": null,
   "metadata": {},
   "outputs": [],
   "source": [
    "# score = forest.score(x_test, y_test)"
   ]
  }
 ],
 "metadata": {
  "kernelspec": {
   "display_name": "Python 3",
   "language": "python",
   "name": "python3"
  },
  "language_info": {
   "codemirror_mode": {
    "name": "ipython",
    "version": 3
   },
   "file_extension": ".py",
   "mimetype": "text/x-python",
   "name": "python",
   "nbconvert_exporter": "python",
   "pygments_lexer": "ipython3",
   "version": "3.9.12"
  },
  "orig_nbformat": 4
 },
 "nbformat": 4,
 "nbformat_minor": 2
}
